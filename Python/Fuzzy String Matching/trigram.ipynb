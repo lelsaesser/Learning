{
 "cells": [
  {
   "cell_type": "code",
   "execution_count": 52,
   "metadata": {},
   "outputs": [],
   "source": [
    "test_strings = [\n",
    "    [\"postgres\", \"postgras\"],\n",
    "    [\"Apple Inc.\", \"apple Inc\"],\n",
    "    [\"Twitter\", \"Twittr\"],\n",
    "    [\"Tumblr\", \"Tumbler\"],\n",
    "    [\"Instagram\", \"Insta\"],\n",
    "    [\"Alabama State University\", \"Alabama University\"],\n",
    "    [\"Alabama State University\", \"University of Alabama\"],\n",
    "    [\"SAP SE\", \"SAP\"]\n",
    "]"
   ]
  },
  {
   "cell_type": "code",
   "execution_count": 53,
   "metadata": {},
   "outputs": [
    {
     "name": "stdout",
     "output_type": "stream",
     "text": [
      "['  p', ' po', 'pos', 'ost', 'stg', 'tgr', 'gre', 'res', 'es ']\n",
      "['  a', ' ap', 'app', 'ppl', 'ple', 'le ', 'e i', ' in', 'inc', 'nc.', 'c. ']\n",
      "['  t', ' tw', 'twi', 'wit', 'itt', 'tte', 'ter', 'er ']\n",
      "['  t', ' tu', 'tum', 'umb', 'mbl', 'blr', 'lr ']\n",
      "['  i', ' in', 'ins', 'nst', 'sta', 'tag', 'agr', 'gra', 'ram', 'am ']\n",
      "['  a', ' al', 'ala', 'lab', 'aba', 'bam', 'ama', 'ma ', 'a s', ' st', 'sta', 'tat', 'ate', 'te ', 'e u', ' un', 'uni', 'niv', 'ive', 'ver', 'ers', 'rsi', 'sit', 'ity', 'ty ']\n",
      "['  a', ' al', 'ala', 'lab', 'aba', 'bam', 'ama', 'ma ', 'a s', ' st', 'sta', 'tat', 'ate', 'te ', 'e u', ' un', 'uni', 'niv', 'ive', 'ver', 'ers', 'rsi', 'sit', 'ity', 'ty ']\n",
      "['  s', ' sa', 'sap', 'ap ', 'p s', ' se', 'se ']\n"
     ]
    }
   ],
   "source": [
    "# Python trigram implementation\n",
    "def calc_trigram_for_string(s):\n",
    "    if s.strip() == \"\": return []\n",
    "    \n",
    "    parts = []\n",
    "    padded = \"  \" + s.lower() + \" \"\n",
    "    \n",
    "    for i in range(1, len(padded) - 1):\n",
    "        parts.append(padded[i-1] + padded[i] + padded[i+1])\n",
    "    return parts\n",
    "\n",
    "for test_string in test_strings:\n",
    "    print(calc_trigram_for_string(test_string[0]))"
   ]
  },
  {
   "cell_type": "code",
   "execution_count": 54,
   "metadata": {},
   "outputs": [
    {
     "name": "stdout",
     "output_type": "stream",
     "text": [
      "['postgres', 'postgras'] : 0.5\n",
      "['Apple Inc.', 'apple Inc'] : 0.8181818181818182\n",
      "['Twitter', 'Twittr'] : 0.5555555555555556\n",
      "['Tumblr', 'Tumbler'] : 0.5555555555555556\n",
      "['Instagram', 'Insta'] : 0.7142857142857143\n",
      "['Alabama State University', 'Alabama University'] : 0.26666666666666666\n",
      "['Alabama State University', 'University of Alabama'] : 0.0\n",
      "['SAP SE', 'SAP'] : 1.0\n"
     ]
    }
   ],
   "source": [
    "def calc_trigram_similarity(string_list):\n",
    "    s1 = string_list[0]\n",
    "    s2 = string_list[1]\n",
    "    tri1, tri2 = calc_trigram_for_string(s1), calc_trigram_for_string(s2)\n",
    "    \n",
    "    same_tris = 0\n",
    "    unique_tris = 0\n",
    "    for i, j in zip(tri1, tri2):\n",
    "        if i == j:\n",
    "            same_tris += 1\n",
    "            unique_tris += 1\n",
    "        else:\n",
    "            unique_tris += 2\n",
    "                \n",
    "    return same_tris / unique_tris\n",
    "\n",
    "for strings in test_strings:\n",
    "    print(strings, \":\", calc_trigram_similarity(strings))"
   ]
  },
  {
   "cell_type": "code",
   "execution_count": null,
   "metadata": {},
   "outputs": [],
   "source": []
  }
 ],
 "metadata": {
  "kernelspec": {
   "display_name": "Python 3",
   "language": "python",
   "name": "python3"
  },
  "language_info": {
   "codemirror_mode": {
    "name": "ipython",
    "version": 3
   },
   "file_extension": ".py",
   "mimetype": "text/x-python",
   "name": "python",
   "nbconvert_exporter": "python",
   "pygments_lexer": "ipython3",
   "version": "3.6.8"
  }
 },
 "nbformat": 4,
 "nbformat_minor": 2
}
